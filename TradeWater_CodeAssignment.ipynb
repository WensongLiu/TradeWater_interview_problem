{
 "cells": [
  {
   "cell_type": "code",
   "execution_count": 1,
   "metadata": {},
   "outputs": [],
   "source": [
    "import requests\n",
    "import pandas as pd\n",
    "from pandas.core.frame import DataFrame\n",
    "import csv\n",
    "import time\n",
    "import datetime"
   ]
  },
  {
   "cell_type": "markdown",
   "metadata": {},
   "source": [
    "## To change csv file path here for testing( I provied 3 paths: \"test_1.csv\", \"test_2.csv\" and \"test_3.csv\", or you can use your own path)."
   ]
  },
  {
   "cell_type": "code",
   "execution_count": 2,
   "metadata": {},
   "outputs": [],
   "source": [
    "df = pd.read_csv('data_for_TradeWater.csv') "
   ]
  },
  {
   "cell_type": "code",
   "execution_count": 3,
   "metadata": {},
   "outputs": [],
   "source": [
    "df.Export_Date = pd.to_datetime((df.Export_Date))"
   ]
  },
  {
   "cell_type": "markdown",
   "metadata": {},
   "source": [
    "## Sorted this table by its Export_Date."
   ]
  },
  {
   "cell_type": "code",
   "execution_count": 4,
   "metadata": {},
   "outputs": [
    {
     "data": {
      "text/html": [
       "<div>\n",
       "<style scoped>\n",
       "    .dataframe tbody tr th:only-of-type {\n",
       "        vertical-align: middle;\n",
       "    }\n",
       "\n",
       "    .dataframe tbody tr th {\n",
       "        vertical-align: top;\n",
       "    }\n",
       "\n",
       "    .dataframe thead th {\n",
       "        text-align: right;\n",
       "    }\n",
       "</style>\n",
       "<table border=\"1\" class=\"dataframe\">\n",
       "  <thead>\n",
       "    <tr style=\"text-align: right;\">\n",
       "      <th></th>\n",
       "      <th>Export_Date</th>\n",
       "      <th>Item_ID</th>\n",
       "      <th>Status</th>\n",
       "    </tr>\n",
       "  </thead>\n",
       "  <tbody>\n",
       "    <tr>\n",
       "      <th>0</th>\n",
       "      <td>2017-01-31</td>\n",
       "      <td>201</td>\n",
       "      <td>Open</td>\n",
       "    </tr>\n",
       "    <tr>\n",
       "      <th>1</th>\n",
       "      <td>2017-01-31</td>\n",
       "      <td>202</td>\n",
       "      <td>Closed</td>\n",
       "    </tr>\n",
       "    <tr>\n",
       "      <th>2</th>\n",
       "      <td>2017-01-31</td>\n",
       "      <td>203</td>\n",
       "      <td>Open</td>\n",
       "    </tr>\n",
       "    <tr>\n",
       "      <th>3</th>\n",
       "      <td>2017-02-07</td>\n",
       "      <td>201</td>\n",
       "      <td>Open</td>\n",
       "    </tr>\n",
       "    <tr>\n",
       "      <th>4</th>\n",
       "      <td>2017-02-07</td>\n",
       "      <td>202</td>\n",
       "      <td>Closed</td>\n",
       "    </tr>\n",
       "    <tr>\n",
       "      <th>5</th>\n",
       "      <td>2017-02-07</td>\n",
       "      <td>203</td>\n",
       "      <td>Open</td>\n",
       "    </tr>\n",
       "    <tr>\n",
       "      <th>6</th>\n",
       "      <td>2017-02-14</td>\n",
       "      <td>201</td>\n",
       "      <td>Pending</td>\n",
       "    </tr>\n",
       "    <tr>\n",
       "      <th>7</th>\n",
       "      <td>2017-02-14</td>\n",
       "      <td>202</td>\n",
       "      <td>Closed</td>\n",
       "    </tr>\n",
       "    <tr>\n",
       "      <th>8</th>\n",
       "      <td>2017-02-14</td>\n",
       "      <td>203</td>\n",
       "      <td>Open</td>\n",
       "    </tr>\n",
       "    <tr>\n",
       "      <th>11</th>\n",
       "      <td>2017-02-21</td>\n",
       "      <td>203</td>\n",
       "      <td>Open</td>\n",
       "    </tr>\n",
       "    <tr>\n",
       "      <th>10</th>\n",
       "      <td>2017-02-21</td>\n",
       "      <td>202</td>\n",
       "      <td>Closed</td>\n",
       "    </tr>\n",
       "    <tr>\n",
       "      <th>9</th>\n",
       "      <td>2017-02-21</td>\n",
       "      <td>201</td>\n",
       "      <td>Closed</td>\n",
       "    </tr>\n",
       "    <tr>\n",
       "      <th>12</th>\n",
       "      <td>2017-02-28</td>\n",
       "      <td>201</td>\n",
       "      <td>Closed</td>\n",
       "    </tr>\n",
       "    <tr>\n",
       "      <th>13</th>\n",
       "      <td>2017-02-28</td>\n",
       "      <td>202</td>\n",
       "      <td>Closed</td>\n",
       "    </tr>\n",
       "    <tr>\n",
       "      <th>14</th>\n",
       "      <td>2017-02-28</td>\n",
       "      <td>203</td>\n",
       "      <td>Open</td>\n",
       "    </tr>\n",
       "    <tr>\n",
       "      <th>15</th>\n",
       "      <td>2017-03-07</td>\n",
       "      <td>201</td>\n",
       "      <td>Pending</td>\n",
       "    </tr>\n",
       "    <tr>\n",
       "      <th>16</th>\n",
       "      <td>2017-03-07</td>\n",
       "      <td>202</td>\n",
       "      <td>Closed</td>\n",
       "    </tr>\n",
       "    <tr>\n",
       "      <th>17</th>\n",
       "      <td>2017-03-07</td>\n",
       "      <td>203</td>\n",
       "      <td>Open</td>\n",
       "    </tr>\n",
       "    <tr>\n",
       "      <th>18</th>\n",
       "      <td>2017-03-14</td>\n",
       "      <td>201</td>\n",
       "      <td>Closed</td>\n",
       "    </tr>\n",
       "    <tr>\n",
       "      <th>19</th>\n",
       "      <td>2017-03-14</td>\n",
       "      <td>202</td>\n",
       "      <td>Closed</td>\n",
       "    </tr>\n",
       "    <tr>\n",
       "      <th>20</th>\n",
       "      <td>2017-03-14</td>\n",
       "      <td>203</td>\n",
       "      <td>Open</td>\n",
       "    </tr>\n",
       "  </tbody>\n",
       "</table>\n",
       "</div>"
      ],
      "text/plain": [
       "   Export_Date  Item_ID   Status\n",
       "0   2017-01-31      201     Open\n",
       "1   2017-01-31      202   Closed\n",
       "2   2017-01-31      203     Open\n",
       "3   2017-02-07      201     Open\n",
       "4   2017-02-07      202   Closed\n",
       "5   2017-02-07      203     Open\n",
       "6   2017-02-14      201  Pending\n",
       "7   2017-02-14      202   Closed\n",
       "8   2017-02-14      203     Open\n",
       "11  2017-02-21      203     Open\n",
       "10  2017-02-21      202   Closed\n",
       "9   2017-02-21      201   Closed\n",
       "12  2017-02-28      201   Closed\n",
       "13  2017-02-28      202   Closed\n",
       "14  2017-02-28      203     Open\n",
       "15  2017-03-07      201  Pending\n",
       "16  2017-03-07      202   Closed\n",
       "17  2017-03-07      203     Open\n",
       "18  2017-03-14      201   Closed\n",
       "19  2017-03-14      202   Closed\n",
       "20  2017-03-14      203     Open"
      ]
     },
     "execution_count": 4,
     "metadata": {},
     "output_type": "execute_result"
    }
   ],
   "source": [
    "df.sort_values(by='Export_Date')"
   ]
  },
  {
   "cell_type": "code",
   "execution_count": 5,
   "metadata": {},
   "outputs": [],
   "source": [
    "df_copy = df"
   ]
  },
  {
   "cell_type": "code",
   "execution_count": 6,
   "metadata": {},
   "outputs": [
    {
     "name": "stdout",
     "output_type": "stream",
     "text": [
      "   Export_Date  Item_ID   Status\n",
      "0   2017-01-31      201     Open\n",
      "1   2017-01-31      202   Closed\n",
      "2   2017-01-31      203     Open\n",
      "3   2017-02-07      201     Open\n",
      "4   2017-02-07      202   Closed\n",
      "5   2017-02-07      203     Open\n",
      "6   2017-02-14      201  Pending\n",
      "7   2017-02-14      202   Closed\n",
      "8   2017-02-14      203     Open\n",
      "9   2017-02-21      201   Closed\n",
      "10  2017-02-21      202   Closed\n",
      "11  2017-02-21      203     Open\n",
      "12  2017-02-28      201   Closed\n",
      "13  2017-02-28      202   Closed\n",
      "14  2017-02-28      203     Open\n",
      "15  2017-03-07      201  Pending\n",
      "16  2017-03-07      202   Closed\n",
      "17  2017-03-07      203     Open\n",
      "18  2017-03-14      201   Closed\n",
      "19  2017-03-14      202   Closed\n",
      "20  2017-03-14      203     Open\n"
     ]
    }
   ],
   "source": [
    "print(df_copy)"
   ]
  },
  {
   "cell_type": "markdown",
   "metadata": {},
   "source": [
    "## Sorted all the Item_ID and saved them to a list to make sure the sequences of final results."
   ]
  },
  {
   "cell_type": "code",
   "execution_count": 7,
   "metadata": {},
   "outputs": [],
   "source": [
    "Item_ID_list = sorted(list(set(df_copy['Item_ID'])))"
   ]
  },
  {
   "cell_type": "code",
   "execution_count": 8,
   "metadata": {},
   "outputs": [
    {
     "name": "stdout",
     "output_type": "stream",
     "text": [
      "[201, 202, 203]\n"
     ]
    }
   ],
   "source": [
    "print(Item_ID_list)"
   ]
  },
  {
   "cell_type": "markdown",
   "metadata": {},
   "source": [
    "## Conbined the Item_ID and Status columns as a Key for future processes."
   ]
  },
  {
   "cell_type": "code",
   "execution_count": 9,
   "metadata": {},
   "outputs": [],
   "source": [
    "df_copy.Item_ID = df_copy.Item_ID.astype(str)\n",
    "df_copy['Key'] = df_copy['Item_ID'] + \" \" + df_copy['Status']"
   ]
  },
  {
   "cell_type": "code",
   "execution_count": 10,
   "metadata": {},
   "outputs": [],
   "source": [
    "data_set = set(zip(df_copy.Key, df_copy.Export_Date))"
   ]
  },
  {
   "cell_type": "code",
   "execution_count": 11,
   "metadata": {},
   "outputs": [
    {
     "name": "stdout",
     "output_type": "stream",
     "text": [
      "{('202 Closed', Timestamp('2017-02-28 00:00:00')), ('203 Open', Timestamp('2017-01-31 00:00:00')), ('203 Open', Timestamp('2017-03-07 00:00:00')), ('202 Closed', Timestamp('2017-01-31 00:00:00')), ('201 Open', Timestamp('2017-01-31 00:00:00')), ('202 Closed', Timestamp('2017-02-21 00:00:00')), ('203 Open', Timestamp('2017-02-14 00:00:00')), ('203 Open', Timestamp('2017-02-07 00:00:00')), ('201 Closed', Timestamp('2017-03-14 00:00:00')), ('202 Closed', Timestamp('2017-02-07 00:00:00')), ('201 Open', Timestamp('2017-02-07 00:00:00')), ('201 Closed', Timestamp('2017-02-28 00:00:00')), ('201 Closed', Timestamp('2017-02-21 00:00:00')), ('203 Open', Timestamp('2017-03-14 00:00:00')), ('201 Pending', Timestamp('2017-03-07 00:00:00')), ('201 Pending', Timestamp('2017-02-14 00:00:00')), ('202 Closed', Timestamp('2017-03-14 00:00:00')), ('203 Open', Timestamp('2017-02-21 00:00:00')), ('203 Open', Timestamp('2017-02-28 00:00:00')), ('202 Closed', Timestamp('2017-02-14 00:00:00')), ('202 Closed', Timestamp('2017-03-07 00:00:00'))}\n"
     ]
    }
   ],
   "source": [
    "print(data_set)"
   ]
  },
  {
   "cell_type": "markdown",
   "metadata": {},
   "source": [
    "## This method is used to get the first open date for each item by getting all its open dates and picking the least as well as the earliest one( the sequence of this result is corresponding with the sorted Item_ID list)."
   ]
  },
  {
   "cell_type": "code",
   "execution_count": 12,
   "metadata": {},
   "outputs": [],
   "source": [
    "def find_first_open_date(data_set, Item_ID_list, item_first_open_date):\n",
    "    for id in Item_ID_list:\n",
    "        s = str(id) + ' ' + 'Open'\n",
    "        all_open_date_for_specific_ID_list = list()\n",
    "        for k in data_set:\n",
    "            if(s == k[0]):\n",
    "                all_open_date_for_specific_ID_list.append(k[1])\n",
    "            else:\n",
    "                continue\n",
    "#         print(all_open_date_for_specific_ID_list)\n",
    "        if(all_open_date_for_specific_ID_list):\n",
    "            item_first_open_date.append(min(all_open_date_for_specific_ID_list))\n",
    "        else:\n",
    "            item_first_open_date.append('N/A')"
   ]
  },
  {
   "cell_type": "code",
   "execution_count": 13,
   "metadata": {},
   "outputs": [
    {
     "name": "stdout",
     "output_type": "stream",
     "text": [
      "[Timestamp('2017-01-31 00:00:00'), 'N/A', Timestamp('2017-01-31 00:00:00')]\n"
     ]
    }
   ],
   "source": [
    "item_first_open_date = list()\n",
    "find_first_open_date(data_set, Item_ID_list, item_first_open_date)\n",
    "print(item_first_open_date)"
   ]
  },
  {
   "cell_type": "markdown",
   "metadata": {},
   "source": [
    "## This method is used to get the item's corresponding close date by selecting all its close dates and picking the least but larger than its first open date one."
   ]
  },
  {
   "cell_type": "code",
   "execution_count": 14,
   "metadata": {},
   "outputs": [],
   "source": [
    "def find_first_valid_close_date(data_set, Item_ID_list, item_first_open_date, item_valid_close_date):\n",
    "    id_index = 0\n",
    "    for id in Item_ID_list:\n",
    "        s = str(id) + ' ' + 'Closed'\n",
    "        all_closed_date_for_specific_ID_list = list()\n",
    "        for k in data_set:\n",
    "            if(s == k[0] ):\n",
    "                all_closed_date_for_specific_ID_list.append(k[1])\n",
    "            else:\n",
    "                continue\n",
    "        if(all_closed_date_for_specific_ID_list):\n",
    "            target = item_first_open_date[id_index]\n",
    "            if(target != 'N/A'):\n",
    "                date_time_obj = datetime.datetime.strptime(str(target), '%Y-%m-%d %H:%M:%S')\n",
    "                item_valid_close_date.append(min(dt for dt in all_closed_date_for_specific_ID_list if dt > date_time_obj))\n",
    "            else:\n",
    "                item_valid_close_date.append('N/A')\n",
    "        else:\n",
    "            item_valid_close_date.append('N/A')\n",
    "        id_index = id_index + 1\n",
    "#         print(id_index)"
   ]
  },
  {
   "cell_type": "code",
   "execution_count": 15,
   "metadata": {},
   "outputs": [
    {
     "name": "stdout",
     "output_type": "stream",
     "text": [
      "[Timestamp('2017-02-21 00:00:00'), 'N/A', 'N/A']\n"
     ]
    }
   ],
   "source": [
    "item_valid_close_date = list()\n",
    "find_first_valid_close_date(data_set, Item_ID_list, item_first_open_date, item_valid_close_date)\n",
    "print(item_valid_close_date)"
   ]
  },
  {
   "cell_type": "code",
   "execution_count": 16,
   "metadata": {},
   "outputs": [],
   "source": [
    "def get_final_result(Item_ID_list, item_first_open_date, item_valid_close_date, result_dict):\n",
    "    index = 0\n",
    "    while index < len(Item_ID_list):\n",
    "        if(item_first_open_date[index] != 'N/A'):\n",
    "            if(item_valid_close_date[index] != 'N/A'):\n",
    "#                 print(type(item_valid_close_date[index]))\n",
    "                result = item_valid_close_date[index] - item_first_open_date[index]\n",
    "                result_dict[str(Item_ID_list[index])] = str(int(result.days/7))\n",
    "                print('Item '+ str(Item_ID_list[index]) +\"'s fist open duration is \"+ str(int(result.days/7)) + \" weeks!\")\n",
    "            else:\n",
    "                result_dict[str(Item_ID_list[index])] = 'Never closed!'\n",
    "                print('Item '+ str(Item_ID_list[index]) +' is never closed!')\n",
    "        else:\n",
    "            result_dict[str(Item_ID_list[index])] = 'Never opened!'\n",
    "            print('Item '+ str(Item_ID_list[index]) +' is never opened!')\n",
    "        index = index + 1"
   ]
  },
  {
   "cell_type": "markdown",
   "metadata": {},
   "source": [
    "## Final results are here!"
   ]
  },
  {
   "cell_type": "code",
   "execution_count": 17,
   "metadata": {},
   "outputs": [
    {
     "name": "stdout",
     "output_type": "stream",
     "text": [
      "Item 201's fist open duration is 3 weeks!\n",
      "Item 202 is never opened!\n",
      "Item 203 is never closed!\n"
     ]
    }
   ],
   "source": [
    "result_dict = {}\n",
    "get_final_result(Item_ID_list, item_first_open_date, item_valid_close_date, result_dict)"
   ]
  },
  {
   "cell_type": "code",
   "execution_count": 18,
   "metadata": {},
   "outputs": [
    {
     "name": "stdout",
     "output_type": "stream",
     "text": [
      "{'201': '3', '202': 'Never opened!', '203': 'Never closed!'}\n"
     ]
    }
   ],
   "source": [
    "print(result_dict)"
   ]
  },
  {
   "cell_type": "markdown",
   "metadata": {},
   "source": [
    "## To export the result dict to a csv file."
   ]
  },
  {
   "cell_type": "code",
   "execution_count": 19,
   "metadata": {},
   "outputs": [],
   "source": [
    "now = datetime.datetime.now()\n",
    "\n",
    "csv_file = \"final_results \"+str(now)+\".csv\"\n",
    "try:\n",
    "    with open(csv_file, 'w') as csv_file:\n",
    "        writer = csv.writer(csv_file)\n",
    "        writer.writerow(['Item_ID','First Open Duration(weeks)']) \n",
    "        for key, value in result_dict.items():\n",
    "           writer.writerow([key, value])\n",
    "except IOError:\n",
    "    print(\"I/O error\") "
   ]
  },
  {
   "cell_type": "code",
   "execution_count": null,
   "metadata": {},
   "outputs": [],
   "source": []
  }
 ],
 "metadata": {
  "kernelspec": {
   "display_name": "Python 3",
   "language": "python",
   "name": "python3"
  },
  "language_info": {
   "codemirror_mode": {
    "name": "ipython",
    "version": 3
   },
   "file_extension": ".py",
   "mimetype": "text/x-python",
   "name": "python",
   "nbconvert_exporter": "python",
   "pygments_lexer": "ipython3",
   "version": "3.7.2"
  }
 },
 "nbformat": 4,
 "nbformat_minor": 2
}
